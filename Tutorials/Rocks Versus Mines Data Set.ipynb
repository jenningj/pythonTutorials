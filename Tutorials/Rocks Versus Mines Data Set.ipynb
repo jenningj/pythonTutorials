{
 "cells": [
  {
   "cell_type": "markdown",
   "metadata": {},
   "source": [
    "# Sizing Up a New Data Set"
   ]
  },
  {
   "cell_type": "code",
   "execution_count": 13,
   "metadata": {
    "collapsed": false
   },
   "outputs": [
    {
     "name": "stdout",
     "output_type": "stream",
     "text": [
      "Number of Rows of Data = 208\n",
      "Number of Columns of Data = 61"
     ]
    }
   ],
   "source": [
    "from urllib.request import urlopen\n",
    "import sys\n",
    "#read data from uci data repository\n",
    "target_url = urllib.request.Request(\"https://archive.ics.uci.edu/ml/machine-learning-databases/undocumented/connectionist-bench/sonar/sonar.all-data\")\n",
    "data = urlopen(target_url)\n",
    "\n",
    "#arrange data into list for labels and list of lists for attributes\n",
    "xList = []\n",
    "labels = []\n",
    "for line in data:\n",
    "    #split on comma\n",
    "    row = line.strip().decode().split(\",\")\n",
    "    xList.append(row)\n",
    "sys.stdout.write(\"Number of Rows of Data = \" + str(len(xList)) + '\\n')\n",
    "sys.stdout.write(\"Number of Columns of Data = \" + str(len(xList[1])))\n"
   ]
  },
  {
   "cell_type": "markdown",
   "metadata": {
    "collapsed": true
   },
   "source": [
    "# Determining the Nature of Attributes"
   ]
  },
  {
   "cell_type": "code",
   "execution_count": 74,
   "metadata": {
    "collapsed": false
   },
   "outputs": [
    {
     "name": "stdout",
     "output_type": "stream",
     "text": [
      "Col#\tNumber\tStrings\t Other\n",
      "0\t208\t0\t0\n",
      "1\t208\t0\t0\n",
      "2\t208\t0\t0\n",
      "3\t208\t0\t0\n",
      "4\t208\t0\t0\n",
      "5\t208\t0\t0\n",
      "6\t208\t0\t0\n",
      "7\t208\t0\t0\n",
      "8\t208\t0\t0\n",
      "9\t208\t0\t0\n",
      "10\t208\t0\t0\n",
      "11\t208\t0\t0\n",
      "12\t208\t0\t0\n",
      "13\t208\t0\t0\n",
      "14\t208\t0\t0\n",
      "15\t208\t0\t0\n",
      "16\t208\t0\t0\n",
      "17\t208\t0\t0\n",
      "18\t208\t0\t0\n",
      "19\t208\t0\t0\n",
      "20\t208\t0\t0\n",
      "21\t208\t0\t0\n",
      "22\t208\t0\t0\n",
      "23\t208\t0\t0\n",
      "24\t208\t0\t0\n",
      "25\t208\t0\t0\n",
      "26\t208\t0\t0\n",
      "27\t208\t0\t0\n",
      "28\t208\t0\t0\n",
      "29\t208\t0\t0\n",
      "30\t208\t0\t0\n",
      "31\t208\t0\t0\n",
      "32\t208\t0\t0\n",
      "33\t208\t0\t0\n",
      "34\t208\t0\t0\n",
      "35\t208\t0\t0\n",
      "36\t208\t0\t0\n",
      "37\t208\t0\t0\n",
      "38\t208\t0\t0\n",
      "39\t208\t0\t0\n",
      "40\t208\t0\t0\n",
      "41\t208\t0\t0\n",
      "42\t208\t0\t0\n",
      "43\t208\t0\t0\n",
      "44\t208\t0\t0\n",
      "45\t208\t0\t0\n",
      "46\t208\t0\t0\n",
      "47\t208\t0\t0\n",
      "48\t208\t0\t0\n",
      "49\t208\t0\t0\n",
      "50\t208\t0\t0\n",
      "51\t208\t0\t0\n",
      "52\t208\t0\t0\n",
      "53\t208\t0\t0\n",
      "54\t208\t0\t0\n",
      "55\t208\t0\t0\n",
      "56\t208\t0\t0\n",
      "57\t208\t0\t0\n",
      "58\t208\t0\t0\n",
      "59\t208\t0\t0\n",
      "60\t0\t208\t0\n"
     ]
    }
   ],
   "source": [
    "from urllib.request import urlopen\n",
    "import sys\n",
    "#read data from uci data repository\n",
    "target_url = urllib.request.Request(\"https://archive.ics.uci.edu/ml/machine-learning-databases/undocumented/connectionist-bench/sonar/sonar.all-data\")\n",
    "data = urlopen(target_url)\n",
    "\n",
    "#arrange data into list for labels and list of lists for attributes\n",
    "xList = []\n",
    "labels = []\n",
    "for line in data:\n",
    "    #split on comma\n",
    "    row = line.strip().decode().split(\",\")\n",
    "    xList.append(row)\n",
    "nrow = len(xList)\n",
    "ncol = len(xList[1])\n",
    "\n",
    "type = [0]*3\n",
    "colCounts = []\n",
    "\n",
    "for col in range(ncol):\n",
    "    for row in xList:\n",
    "        try:\n",
    "            a = float(row[col])\n",
    "            if isinstance(a, float):\n",
    "                type[0] += 1\n",
    "        except ValueError:\n",
    "            if len(row[col]) > 0:\n",
    "                type[1] += 1\n",
    "            else:\n",
    "                type[2] += 1\n",
    "\n",
    "    colCounts.append(type)\n",
    "    type = [0]*3\n",
    "\n",
    "sys.stdout.write(\"Col#\" + '\\t' + \"Number\" + '\\t' + \"Strings\" + '\\t ' + \"Other\\n\")\n",
    "iCol = 0\n",
    "#I deleted one /t to make it align.\n",
    "for types in colCounts:\n",
    "    sys.stdout.write(str(iCol) + '\\t' + str(types[0]) + '\\t' +\n",
    "                     str(types[1]) + '\\t' + str(types[2]) + \"\\n\")\n",
    "    iCol += 1\n"
   ]
  },
  {
   "cell_type": "markdown",
   "metadata": {},
   "source": [
    "# Summary Statistics for Numeric and Categorical Attributes"
   ]
  },
  {
   "cell_type": "code",
   "execution_count": 75,
   "metadata": {
    "collapsed": false
   },
   "outputs": [
    {
     "name": "stdout",
     "output_type": "stream",
     "text": [
      "Mean = \t0.0538923076923\t\tStandard Deviation = \t 0.0464159832226\n",
      "\n",
      "Boundaries for 4 Equal Percentiles \n",
      "[0.0057999999999999996, 0.024375000000000001, 0.044049999999999999, 0.064500000000000002, 0.4264]\n",
      " \n",
      "Boundaries for 10 Equal Percentiles \n",
      "[0.0057999999999999996, 0.0141, 0.022740000000000003, 0.027869999999999995, 0.036220000000000002, 0.044049999999999999, 0.050719999999999987, 0.059959999999999986, 0.077940000000000009, 0.10836, 0.4264]\n",
      " \n",
      "Unique Label Values \n",
      "{'R', 'M'}\n",
      "\n",
      "Counts for Each Value of Categorical Label \n",
      "['R', 'M']\n",
      "[97, 111]\n"
     ]
    }
   ],
   "source": [
    "from urllib.request import urlopen\n",
    "import sys\n",
    "import numpy as np\n",
    "#read data from uci data repository\n",
    "target_url = urllib.request.Request(\"https://archive.ics.uci.edu/ml/machine-learning-databases/undocumented/connectionist-bench/sonar/sonar.all-data\")\n",
    "data = urlopen(target_url)\n",
    "\n",
    "#arrange data into list for labels and list of lists for attributes\n",
    "xList = []\n",
    "labels = []\n",
    "for line in data:\n",
    "    #split on comma\n",
    "    row = line.strip().decode().split(\",\")\n",
    "    xList.append(row)\n",
    "nrow = len(xList)\n",
    "ncol = len(xList[1])\n",
    "type = [0]*3\n",
    "colCounts = []\n",
    "\n",
    "#generate summary statistics for column 3 (e.g.)\n",
    "col = 3\n",
    "colData = []\n",
    "for row in xList:\n",
    "    colData.append(float(row[col]))\n",
    "\n",
    "colArray = np.array(colData)\n",
    "colMean = np.mean(colArray)\n",
    "colsd = np.std(colArray)\n",
    "sys.stdout.write(\"Mean = \" + '\\t' + str(colMean) + '\\t\\t' +\n",
    "            \"Standard Deviation = \" + '\\t ' + str(colsd) + \"\\n\")\n",
    "\n",
    "\n",
    "#calculate quantile boundaries\n",
    "ntiles = 4\n",
    "\n",
    "percentBdry = []\n",
    "\n",
    "for i in range(ntiles+1):\n",
    "    percentBdry.append(np.percentile(colArray, i*(100)/ntiles))\n",
    "\n",
    "sys.stdout.write(\"\\nBoundaries for 4 Equal Percentiles \\n\")\n",
    "print(percentBdry)\n",
    "sys.stdout.write(\" \\n\")\n",
    "\n",
    "\n",
    "#run again with 10 equal intervals\n",
    "ntiles = 10\n",
    "\n",
    "percentBdry = []\n",
    "\n",
    "for i in range(ntiles+1):\n",
    "    percentBdry.append(np.percentile(colArray, i*(100)/ntiles))\n",
    "\n",
    "sys.stdout.write(\"Boundaries for 10 Equal Percentiles \\n\")\n",
    "print(percentBdry)\n",
    "sys.stdout.write(\" \\n\")\n",
    "\n",
    "\n",
    "#The last column contains categorical variables\n",
    "\n",
    "col = 60\n",
    "colData = []\n",
    "for row in xList:\n",
    "    colData.append(row[col])\n",
    "\n",
    "unique = set(colData)\n",
    "sys.stdout.write(\"Unique Label Values \\n\")\n",
    "print(unique)\n",
    "\n",
    "#count up the number of elements having each value\n",
    "\n",
    "catDict = dict(zip(list(unique),range(len(unique))))\n",
    "\n",
    "catCount = [0]*2\n",
    "\n",
    "for elt in colData:\n",
    "    catCount[catDict[elt]] += 1\n",
    "\n",
    "sys.stdout.write(\"\\nCounts for Each Value of Categorical Label \\n\")\n",
    "print(list(unique))\n",
    "print(catCount)\n"
   ]
  },
  {
   "cell_type": "markdown",
   "metadata": {},
   "source": [
    "# Quantile‐Quantile Plot"
   ]
  },
  {
   "cell_type": "code",
   "execution_count": 83,
   "metadata": {
    "collapsed": true
   },
   "outputs": [],
   "source": [
    "import numpy as np\n",
    "import pylab\n",
    "import scipy.stats as stats\n",
    "from urllib.request import urlopen\n",
    "import sys\n",
    "import numpy as np\n",
    "#read data from uci data repository\n",
    "target_url = urllib.request.Request(\"https://archive.ics.uci.edu/ml/machine-learning-databases/undocumented/connectionist-bench/sonar/sonar.all-data\")\n",
    "data = urlopen(target_url)\n",
    "\n",
    "#arrange data into list for labels and list of lists for attributes\n",
    "xList = []\n",
    "labels = []\n",
    "for line in data:\n",
    "    #split on comma\n",
    "    row = line.strip().decode().split(\",\")\n",
    "    xList.append(row)\n",
    "nrow = len(xList)\n",
    "ncol = len(xList[1])\n",
    "\n",
    "type = [0]*3\n",
    "colCounts = []\n",
    "\n",
    "#generate summary statistics for column 3 (e.g.)\n",
    "col = 3\n",
    "colData = []\n",
    "for row in xList:\n",
    "    colData.append(float(row[col]))\n",
    "\n",
    "\n",
    "stats.probplot(colData, dist=\"norm\", plot=pylab)\n",
    "pylab.show()\n"
   ]
  },
  {
   "cell_type": "markdown",
   "metadata": {},
   "source": [
    "# Using Python Pandas to Read and Summarize Data"
   ]
  },
  {
   "cell_type": "code",
   "execution_count": 80,
   "metadata": {
    "collapsed": false
   },
   "outputs": [
    {
     "name": "stdout",
     "output_type": "stream",
     "text": [
      "       V0      V1      V2      V3      V4      V5      V6      V7      V8  \\\n",
      "0  0.0200  0.0371  0.0428  0.0207  0.0954  0.0986  0.1539  0.1601  0.3109   \n",
      "1  0.0453  0.0523  0.0843  0.0689  0.1183  0.2583  0.2156  0.3481  0.3337   \n",
      "2  0.0262  0.0582  0.1099  0.1083  0.0974  0.2280  0.2431  0.3771  0.5598   \n",
      "3  0.0100  0.0171  0.0623  0.0205  0.0205  0.0368  0.1098  0.1276  0.0598   \n",
      "4  0.0762  0.0666  0.0481  0.0394  0.0590  0.0649  0.1209  0.2467  0.3564   \n",
      "\n",
      "       V9 ...      V51     V52     V53     V54     V55     V56     V57  \\\n",
      "0  0.2111 ...   0.0027  0.0065  0.0159  0.0072  0.0167  0.0180  0.0084   \n",
      "1  0.2872 ...   0.0084  0.0089  0.0048  0.0094  0.0191  0.0140  0.0049   \n",
      "2  0.6194 ...   0.0232  0.0166  0.0095  0.0180  0.0244  0.0316  0.0164   \n",
      "3  0.1264 ...   0.0121  0.0036  0.0150  0.0085  0.0073  0.0050  0.0044   \n",
      "4  0.4459 ...   0.0031  0.0054  0.0105  0.0110  0.0015  0.0072  0.0048   \n",
      "\n",
      "      V58     V59  V60  \n",
      "0  0.0090  0.0032    R  \n",
      "1  0.0052  0.0044    R  \n",
      "2  0.0095  0.0078    R  \n",
      "3  0.0040  0.0117    R  \n",
      "4  0.0107  0.0094    R  \n",
      "\n",
      "[5 rows x 61 columns]\n",
      "         V0      V1      V2      V3      V4      V5      V6      V7      V8  \\\n",
      "203  0.0187  0.0346  0.0168  0.0177  0.0393  0.1630  0.2028  0.1694  0.2328   \n",
      "204  0.0323  0.0101  0.0298  0.0564  0.0760  0.0958  0.0990  0.1018  0.1030   \n",
      "205  0.0522  0.0437  0.0180  0.0292  0.0351  0.1171  0.1257  0.1178  0.1258   \n",
      "206  0.0303  0.0353  0.0490  0.0608  0.0167  0.1354  0.1465  0.1123  0.1945   \n",
      "207  0.0260  0.0363  0.0136  0.0272  0.0214  0.0338  0.0655  0.1400  0.1843   \n",
      "\n",
      "         V9 ...      V51     V52     V53     V54     V55     V56     V57  \\\n",
      "203  0.2684 ...   0.0116  0.0098  0.0199  0.0033  0.0101  0.0065  0.0115   \n",
      "204  0.2154 ...   0.0061  0.0093  0.0135  0.0063  0.0063  0.0034  0.0032   \n",
      "205  0.2529 ...   0.0160  0.0029  0.0051  0.0062  0.0089  0.0140  0.0138   \n",
      "206  0.2354 ...   0.0086  0.0046  0.0126  0.0036  0.0035  0.0034  0.0079   \n",
      "207  0.2354 ...   0.0146  0.0129  0.0047  0.0039  0.0061  0.0040  0.0036   \n",
      "\n",
      "        V58     V59  V60  \n",
      "203  0.0193  0.0157    M  \n",
      "204  0.0062  0.0067    M  \n",
      "205  0.0077  0.0031    M  \n",
      "206  0.0036  0.0048    M  \n",
      "207  0.0061  0.0115    M  \n",
      "\n",
      "[5 rows x 61 columns]\n"
     ]
    }
   ],
   "source": [
    "import pandas as pd\n",
    "from pandas import DataFrame\n",
    "import matplotlib.pyplot as plot\n",
    "target_url = (\"https://archive.ics.uci.edu/ml/machine-learning-\"\n",
    "\"databases/undocumented/connectionist-bench/sonar/sonar.all-data\")\n",
    "\n",
    "#read rocks versus mines data into pandas data frame\n",
    "rocksVMines = pd.read_csv(target_url,header=None, prefix=\"V\")\n",
    "\n",
    "#print head and tail of data frame\n",
    "print(rocksVMines.head())\n",
    "print(rocksVMines.tail())\n",
    "\n"
   ]
  },
  {
   "cell_type": "code",
   "execution_count": 81,
   "metadata": {
    "collapsed": false
   },
   "outputs": [
    {
     "name": "stdout",
     "output_type": "stream",
     "text": [
      "               V0          V1          V2          V3          V4          V5  \\\n",
      "count  208.000000  208.000000  208.000000  208.000000  208.000000  208.000000   \n",
      "mean     0.029164    0.038437    0.043832    0.053892    0.075202    0.104570   \n",
      "std      0.022991    0.032960    0.038428    0.046528    0.055552    0.059105   \n",
      "min      0.001500    0.000600    0.001500    0.005800    0.006700    0.010200   \n",
      "25%      0.013350    0.016450    0.018950    0.024375    0.038050    0.067025   \n",
      "50%      0.022800    0.030800    0.034300    0.044050    0.062500    0.092150   \n",
      "75%      0.035550    0.047950    0.057950    0.064500    0.100275    0.134125   \n",
      "max      0.137100    0.233900    0.305900    0.426400    0.401000    0.382300   \n",
      "\n",
      "               V6          V7          V8          V9     ...             V50  \\\n",
      "count  208.000000  208.000000  208.000000  208.000000     ...      208.000000   \n",
      "mean     0.121747    0.134799    0.178003    0.208259     ...        0.016069   \n",
      "std      0.061788    0.085152    0.118387    0.134416     ...        0.012008   \n",
      "min      0.003300    0.005500    0.007500    0.011300     ...        0.000000   \n",
      "25%      0.080900    0.080425    0.097025    0.111275     ...        0.008425   \n",
      "50%      0.106950    0.112100    0.152250    0.182400     ...        0.013900   \n",
      "75%      0.154000    0.169600    0.233425    0.268700     ...        0.020825   \n",
      "max      0.372900    0.459000    0.682800    0.710600     ...        0.100400   \n",
      "\n",
      "              V51         V52         V53         V54         V55         V56  \\\n",
      "count  208.000000  208.000000  208.000000  208.000000  208.000000  208.000000   \n",
      "mean     0.013420    0.010709    0.010941    0.009290    0.008222    0.007820   \n",
      "std      0.009634    0.007060    0.007301    0.007088    0.005736    0.005785   \n",
      "min      0.000800    0.000500    0.001000    0.000600    0.000400    0.000300   \n",
      "25%      0.007275    0.005075    0.005375    0.004150    0.004400    0.003700   \n",
      "50%      0.011400    0.009550    0.009300    0.007500    0.006850    0.005950   \n",
      "75%      0.016725    0.014900    0.014500    0.012100    0.010575    0.010425   \n",
      "max      0.070900    0.039000    0.035200    0.044700    0.039400    0.035500   \n",
      "\n",
      "              V57         V58         V59  \n",
      "count  208.000000  208.000000  208.000000  \n",
      "mean     0.007949    0.007941    0.006507  \n",
      "std      0.006470    0.006181    0.005031  \n",
      "min      0.000300    0.000100    0.000600  \n",
      "25%      0.003600    0.003675    0.003100  \n",
      "50%      0.005800    0.006400    0.005300  \n",
      "75%      0.010350    0.010325    0.008525  \n",
      "max      0.044000    0.036400    0.043900  \n",
      "\n",
      "[8 rows x 60 columns]\n"
     ]
    }
   ],
   "source": [
    "#print summary of data frame\n",
    "summary = rocksVMines.describe()\n",
    "print(summary)"
   ]
  },
  {
   "cell_type": "markdown",
   "metadata": {},
   "source": [
    "# Parallel coordinates graph of rocks versus mines attributes"
   ]
  },
  {
   "cell_type": "code",
   "execution_count": 82,
   "metadata": {
    "collapsed": true
   },
   "outputs": [],
   "source": [
    "import pandas as pd\n",
    "from pandas import DataFrame\n",
    "import matplotlib.pyplot as plot\n",
    "target_url = (\"https://archive.ics.uci.edu/ml/machine-learning-\"\n",
    "\"databases/undocumented/connectionist-bench/sonar/sonar.all-data\")\n",
    "\n",
    "#read rocks versus mines data into pandas data frame\n",
    "rocksVMines = pd.read_csv(target_url,header=None, prefix=\"V\")\n",
    "\n",
    "for i in range(208):\n",
    "    #assign color based on color based on \"M\" or \"R\" labels\n",
    "    if rocksVMines.iat[i,60] == \"M\":\n",
    "        pcolor = \"red\"\n",
    "    else:\n",
    "        pcolor = \"blue\"\n",
    "\n",
    "    #plot rows of data as if they were series data\n",
    "    dataRow = rocksVMines.iloc[i,0:60]\n",
    "    dataRow.plot(color=pcolor, alpha=0.5)\n",
    "\n",
    "plot.xlabel(\"Attribute Index\")\n",
    "plot.ylabel((\"Attribute Values\"))\n",
    "plot.show()\n"
   ]
  },
  {
   "cell_type": "markdown",
   "metadata": {},
   "source": [
    "# Cross Plotting Pairs of Attributes"
   ]
  },
  {
   "cell_type": "code",
   "execution_count": 84,
   "metadata": {
    "collapsed": true
   },
   "outputs": [],
   "source": [
    "import pandas as pd\n",
    "from pandas import DataFrame\n",
    "import matplotlib.pyplot as plot\n",
    "target_url = (\"https://archive.ics.uci.edu/ml/machine-learning-\"\n",
    "\"databases/undocumented/connectionist-bench/sonar/sonar.all-data\")\n",
    "\n",
    "#read rocks versus mines data into pandas data frame\n",
    "rocksVMines = pd.read_csv(target_url,header=None, prefix=\"V\")\n",
    "\n",
    "#calculate correlations between real-valued attributes\n",
    "dataRow2 = rocksVMines.iloc[1,0:60]\n",
    "dataRow3 = rocksVMines.iloc[2,0:60]\n",
    "\n",
    "plot.scatter(dataRow2, dataRow3)\n",
    "\n",
    "\n",
    "plot.xlabel(\"2nd Attribute\")\n",
    "plot.ylabel((\"3rd Attribute\"))\n",
    "plot.show()\n",
    "\n",
    "dataRow21 = rocksVMines.iloc[20,0:60]\n",
    "\n",
    "plot.scatter(dataRow2, dataRow21)\n",
    "\n",
    "\n",
    "plot.xlabel(\"2nd Attribute\")\n",
    "plot.ylabel((\"21st Attribute\"))\n",
    "plot.show()"
   ]
  },
  {
   "cell_type": "markdown",
   "metadata": {},
   "source": [
    "# Correlation between Classification Target and Real Attributes"
   ]
  },
  {
   "cell_type": "code",
   "execution_count": 85,
   "metadata": {
    "collapsed": true
   },
   "outputs": [],
   "source": [
    "import pandas as pd\n",
    "from pandas import DataFrame\n",
    "import matplotlib.pyplot as plot\n",
    "from random import uniform\n",
    "target_url = (\"https://archive.ics.uci.edu/ml/machine-learning-\"\n",
    "\"databases/undocumented/connectionist-bench/sonar/sonar.all-data\")\n",
    "\n",
    "#read rocks versus mines data into pandas data frame\n",
    "rocksVMines = pd.read_csv(target_url,header=None, prefix=\"V\")\n",
    "\n",
    "#change the targets to numeric values\n",
    "target = []\n",
    "for i in range(208):\n",
    "    #assign 0 or 1 target value based on \"M\" or \"R\" labels\n",
    "    if rocksVMines.iat[i,60] == \"M\":\n",
    "        target.append(1.0)\n",
    "    else:\n",
    "        target.append(0.0)\n",
    "\n",
    "    #plot rows of data as if they were series data\n",
    "dataRow = rocksVMines.iloc[0:208,35]\n",
    "plot.scatter(dataRow, target)\n",
    "\n",
    "plot.xlabel(\"Attribute Value\")\n",
    "plot.ylabel(\"Target Value\")\n",
    "plot.show()\n",
    "\n",
    "#\n",
    "#To improve the visualization, this version dithers the points a little\n",
    "# and makes them somewhat transparent\n",
    "target = []\n",
    "for i in range(208):\n",
    "    #assign 0 or 1 target value based on \"M\" or \"R\" labels\n",
    "    # and add some dither\n",
    "    if rocksVMines.iat[i,60] == \"M\":\n",
    "        target.append(1.0 + uniform(-0.1, 0.1))\n",
    "    else:\n",
    "        target.append(0.0 + uniform(-0.1, 0.1))\n",
    "\n",
    "    #plot rows of data as if they were series data\n",
    "dataRow = rocksVMines.iloc[0:208,35]\n",
    "plot.scatter(dataRow, target, alpha=0.5, s=120)\n",
    "\n",
    "plot.xlabel(\"Attribute Value\")\n",
    "plot.ylabel(\"Target Value\")\n",
    "plot.show()\n"
   ]
  },
  {
   "cell_type": "markdown",
   "metadata": {},
   "source": [
    "# Pearson’s Correlation Calculation for Attributes 2 versus 3 and 2 versus 21"
   ]
  },
  {
   "cell_type": "code",
   "execution_count": 86,
   "metadata": {
    "collapsed": false
   },
   "outputs": [
    {
     "name": "stdout",
     "output_type": "stream",
     "text": [
      "Correlation between attribute 2 and 3 \n",
      "0.770938121191\n",
      " \n",
      "Correlation between attribute 2 and 21 \n",
      "0.466548080789\n",
      " \n"
     ]
    }
   ],
   "source": [
    "import pandas as pd\n",
    "from pandas import DataFrame\n",
    "from math import sqrt\n",
    "import sys\n",
    "target_url = (\"https://archive.ics.uci.edu/ml/machine-learning-\"\n",
    "\"databases/undocumented/connectionist-bench/sonar/sonar.all-data\")\n",
    "\n",
    "#read rocks versus mines data into pandas data frame\n",
    "rocksVMines = pd.read_csv(target_url,header=None, prefix=\"V\")\n",
    "\n",
    "#calculate correlations between real-valued attributes\n",
    "dataRow2 = rocksVMines.iloc[1,0:60]\n",
    "dataRow3 = rocksVMines.iloc[2,0:60]\n",
    "dataRow21 = rocksVMines.iloc[20,0:60]\n",
    "\n",
    "mean2 = 0.0; mean3 = 0.0; mean21 = 0.0\n",
    "numElt = len(dataRow2)\n",
    "for i in range(numElt):\n",
    "    mean2 += dataRow2[i]/numElt\n",
    "    mean3 += dataRow3[i]/numElt\n",
    "    mean21 += dataRow21[i]/numElt\n",
    "\n",
    "var2 = 0.0; var3 = 0.0; var21 = 0.0\n",
    "for i in range(numElt):\n",
    "    var2 += (dataRow2[i] - mean2) * (dataRow2[i] - mean2)/numElt\n",
    "    var3 += (dataRow3[i] - mean3) * (dataRow3[i] - mean3)/numElt\n",
    "    var21 += (dataRow21[i] - mean21) * (dataRow21[i] - mean21)/numElt\n",
    "\n",
    "corr23 = 0.0; corr221 = 0.0\n",
    "for i in range(numElt):\n",
    "    corr23 += (dataRow2[i] - mean2) * \\\n",
    "              (dataRow3[i] - mean3) / (sqrt(var2*var3) * numElt)\n",
    "    corr221 += (dataRow2[i] - mean2) * \\\n",
    "               (dataRow21[i] - mean21) / (sqrt(var2*var21) * numElt)\n",
    "\n",
    "sys.stdout.write(\"Correlation between attribute 2 and 3 \\n\")\n",
    "print(corr23)\n",
    "sys.stdout.write(\" \\n\")\n",
    "\n",
    "sys.stdout.write(\"Correlation between attribute 2 and 21 \\n\")\n",
    "print(corr221)\n",
    "sys.stdout.write(\" \\n\")\n"
   ]
  },
  {
   "cell_type": "markdown",
   "metadata": {},
   "source": [
    "# Visualizing Attribute and Label Correlations Using a Heat Map"
   ]
  },
  {
   "cell_type": "markdown",
   "metadata": {},
   "source": [
    "One way to check correlations with a large number of attributes is to calculate\n",
    "the Pearson’s correlation coefficient for pairs of attributes, arrange those correlations\n",
    "into a matrix where the ij‐th entry is the correlation between the ith\n",
    "attribute and the jth attribute, and then plot them in a heat map"
   ]
  },
  {
   "cell_type": "code",
   "execution_count": 87,
   "metadata": {
    "collapsed": true
   },
   "outputs": [],
   "source": [
    "import pandas as pd\n",
    "from pandas import DataFrame\n",
    "import matplotlib.pyplot as plot\n",
    "target_url = (\"https://archive.ics.uci.edu/ml/machine-learning-\"\n",
    "\"databases/undocumented/connectionist-bench/sonar/sonar.all-data\")\n",
    "\n",
    "#read rocks versus mines data into pandas data frame\n",
    "rocksVMines = pd.read_csv(target_url,header=None, prefix=\"V\")\n",
    "\n",
    "#calculate correlations between real-valued attributes\n",
    "\n",
    "corMat = DataFrame(rocksVMines.corr())\n",
    "\n",
    "#visualize correlations using heatmap\n",
    "plot.pcolor(corMat)\n",
    "plot.show()"
   ]
  },
  {
   "cell_type": "markdown",
   "metadata": {
    "collapsed": true
   },
   "source": [
    "# Measuring Performance for Classifier Trained"
   ]
  },
  {
   "cell_type": "code",
   "execution_count": 22,
   "metadata": {
    "collapsed": false
   },
   "outputs": [
    {
     "name": "stdout",
     "output_type": "stream",
     "text": [
      "Shape of xTrain array (138, 60)\n",
      "Shape of yTrain array (138,)\n",
      "Shape of xTest array (70, 60)\n",
      "Shape of yTest array (70,)\n",
      "Some values predicted by model [-0.10240253  0.42090698  0.38593034  0.36094537  0.31520494] [ 1.11094176  1.12242751  0.77626699  1.02016858  0.66338081]\n",
      "tp = 68.0\tfn = 6.0\n",
      "fp = 7.0\ttn = 57.0\n",
      "\n",
      "tp = 34.0\tfn = 3.0\n",
      "fp = 14.0\ttn = 19.0\n",
      "\n",
      "AUC for in-sample ROC curve: 0.979519\n"
     ]
    },
    {
     "data": {
      "image/png": "[encoded data removed]",
      "text/plain": [
       "<matplotlib.figure.Figure at 0x22ca36d0898>"
      ]
     },
     "metadata": {},
     "output_type": "display_data"
    },
    {
     "name": "stdout",
     "output_type": "stream",
     "text": [
      "AUC for out-of-sample ROC curve: 0.848485\n"
     ]
    },
    {
     "data": {
      "image/png": "[encoded data removed]",
      "text/plain": [
       "<matplotlib.figure.Figure at 0x22ca3f72978>"
      ]
     },
     "metadata": {},
     "output_type": "display_data"
    }
   ],
   "source": [
    "\n",
    "import numpy\n",
    "import random\n",
    "from sklearn import datasets, linear_model\n",
    "from sklearn.metrics import roc_curve, auc\n",
    "import pylab as pl\n",
    "\n",
    "from urllib.request import urlopen\n",
    "import sys\n",
    "#read data from uci data repository\n",
    "target_url = urllib.request.Request(\"https://archive.ics.uci.edu/ml/machine-learning-databases/undocumented/connectionist-bench/sonar/sonar.all-data\")\n",
    "data = urlopen(target_url)\n",
    "\n",
    "\n",
    "def confusionMatrix(predicted, actual, threshold):\n",
    "    if len(predicted) != len(actual): return -1\n",
    "    tp = 0.0\n",
    "    fp = 0.0\n",
    "    tn = 0.0\n",
    "    fn = 0.0\n",
    "    for i in range(len(actual)):\n",
    "        if actual[i] > 0.5: #labels that are 1.0  (positive examples)\n",
    "            if predicted[i] > threshold:\n",
    "                tp += 1.0 #correctly predicted positive\n",
    "            else:\n",
    "                fn += 1.0 #incorrectly predicted negative\n",
    "        else:              #labels that are 0.0 (negative examples)\n",
    "            if predicted[i] < threshold:\n",
    "                tn += 1.0 #correctly predicted negative\n",
    "            else:\n",
    "                fp += 1.0 #incorrectly predicted positive\n",
    "    rtn = [tp, fn, fp, tn]\n",
    "    return rtn\n",
    "\n",
    "\n",
    "\n",
    "#arrange data into list for labels and list of lists for attributes\n",
    "xList = []\n",
    "labels = []\n",
    "\n",
    "for line in data:\n",
    "    #split on comma\n",
    "    row = line.strip().decode().split(\",\")\n",
    "    #assign label 1.0 for \"M\" and 0.0 for \"R\"\n",
    "    if(row[-1] == 'M'):\n",
    "        labels.append(1.0)\n",
    "    else:\n",
    "        labels.append(0.0)\n",
    "    #remove label from row\n",
    "    row.pop()\n",
    "    #convert row to floats\n",
    "    floatRow = [float(num) for num in row]\n",
    "    xList.append(floatRow)\n",
    "\n",
    "#divide attribute matrix and label vector into training(2/3 of data) and test sets (1/3 of data)\n",
    "indices = range(len(xList))\n",
    "xListTest = [xList[i] for i in indices if i%3 == 0 ]\n",
    "xListTrain = [xList[i] for i in indices if i%3 != 0 ]\n",
    "labelsTest = [labels[i] for i in indices if i%3 == 0]\n",
    "labelsTrain = [labels[i] for i in indices if i%3 != 0]\n",
    "\n",
    "#form list of list input into numpy arrays to match input class for scikit-learn linear model\n",
    "xTrain = numpy.array(xListTrain); yTrain = numpy.array(labelsTrain); xTest = numpy.array(xListTest); yTest = numpy.array(labelsTest)\n",
    "\n",
    "#check shapes to see what they look like\n",
    "print(\"Shape of xTrain array\", xTrain.shape)\n",
    "print(\"Shape of yTrain array\", yTrain.shape)\n",
    "print(\"Shape of xTest array\", xTest.shape)\n",
    "print(\"Shape of yTest array\", yTest.shape)\n",
    "\n",
    "#train linear regression model\n",
    "rocksVMinesModel = linear_model.LinearRegression()\n",
    "rocksVMinesModel.fit(xTrain,yTrain)\n",
    "\n",
    "#generate predictions on in-sample error\n",
    "trainingPredictions = rocksVMinesModel.predict(xTrain)\n",
    "print(\"Some values predicted by model\", trainingPredictions[0:5], trainingPredictions[-6:-1])\n",
    "\n",
    "#generate confusion matrix for predictions on training set (in-sample\n",
    "confusionMatTrain = confusionMatrix(trainingPredictions, yTrain, 0.5)\n",
    "#pick threshold value and generate confusion matrix entries\n",
    "tp = confusionMatTrain[0]; fn = confusionMatTrain[1]; fp = confusionMatTrain[2]; tn = confusionMatTrain[3]\n",
    "\n",
    "print(\"tp = \" + str(tp) + \"\\tfn = \" + str(fn) + \"\\n\" + \"fp = \" + str(fp) + \"\\ttn = \" + str(tn) + '\\n')\n",
    "\n",
    "#generate predictions on out-of-sample data\n",
    "testPredictions = rocksVMinesModel.predict(xTest)\n",
    "\n",
    "#generate confusion matrix from predictions on out-of-sample data\n",
    "conMatTest = confusionMatrix(testPredictions, yTest, 0.25)\n",
    "#pick threshold value and generate confusion matrix entries\n",
    "tp = conMatTest[0]; fn = conMatTest[1]; fp = conMatTest[2]; tn = conMatTest[3]\n",
    "print(\"tp = \" + str(tp) + \"\\tfn = \" + str(fn) + \"\\n\" + \"fp = \" + str(fp) + \"\\ttn = \" + str(tn) + '\\n')\n",
    "\n",
    "#generate ROC curve for in-sample\n",
    "\n",
    "fpr, tpr, thresholds = roc_curve(yTrain,trainingPredictions)\n",
    "roc_auc = auc(fpr, tpr)\n",
    "print( 'AUC for in-sample ROC curve: %f' % roc_auc)\n",
    "\n",
    "# Plot ROC curve\n",
    "pl.clf()\n",
    "pl.plot(fpr, tpr, label='ROC curve (area = %0.2f)' % roc_auc)\n",
    "pl.plot([0, 1], [0, 1], 'k--')\n",
    "pl.xlim([0.0, 1.0])\n",
    "pl.ylim([0.0, 1.0])\n",
    "pl.xlabel('False Positive Rate')\n",
    "pl.ylabel('True Positive Rate')\n",
    "pl.title('In sample ROC rocks versus mines')\n",
    "pl.legend(loc=\"lower right\")\n",
    "pl.show()\n",
    "\n",
    "#generate ROC curve for out-of-sample\n",
    "fpr, tpr, thresholds = roc_curve(yTest,testPredictions)\n",
    "roc_auc = auc(fpr, tpr)\n",
    "print( 'AUC for out-of-sample ROC curve: %f' % roc_auc)\n",
    "\n",
    "# Plot ROC curve\n",
    "pl.clf()\n",
    "pl.plot(fpr, tpr, label='ROC curve (area = %0.2f)' % roc_auc)\n",
    "pl.plot([0, 1], [0, 1], 'k--')\n",
    "pl.xlim([0.0, 1.0])\n",
    "pl.ylim([0.0, 1.0])\n",
    "pl.xlabel('False Positive Rate')\n",
    "pl.ylabel('True Positive Rate')\n",
    "pl.title('Out-of-sample ROC rocks versus mines')\n",
    "pl.legend(loc=\"lower right\")\n",
    "pl.show()"
   ]
  },
  {
   "cell_type": "markdown",
   "metadata": {},
   "source": [
    "# Using Ridge Regression"
   ]
  },
  {
   "cell_type": "code",
   "execution_count": 27,
   "metadata": {
    "collapsed": false
   },
   "outputs": [
    {
     "name": "stdout",
     "output_type": "stream",
     "text": [
      "AUC             alpha\n",
      "0.841113841114 999.9999999999999\n",
      "0.864045864046 99.99999999999999\n",
      "0.907452907453 10.0\n",
      "0.9180999181 1.0\n",
      "0.882882882883 0.1\n",
      "0.861588861589 0.010000000000000002\n",
      "0.851760851761 0.0010000000000000002\n",
      "0.850941850942 0.00010000000000000002\n",
      "0.849303849304 1.0000000000000003e-05\n"
     ]
    },
    {
     "data": {
      "image/png": "[encoded data removed]",
      "text/plain": [
       "<matplotlib.figure.Figure at 0x22ca374bc50>"
      ]
     },
     "metadata": {},
     "output_type": "display_data"
    },
    {
     "data": {
      "image/png": "[encoded data removed]",
      "text/plain": [
       "<matplotlib.figure.Figure at 0x22ca3d03be0>"
      ]
     },
     "metadata": {},
     "output_type": "display_data"
    }
   ],
   "source": [
    "\n",
    "import numpy\n",
    "from sklearn import datasets, linear_model\n",
    "from sklearn.metrics import roc_curve, auc\n",
    "import pylab as plt\n",
    "\n",
    "from urllib.request import urlopen\n",
    "import sys\n",
    "#read data from uci data repository\n",
    "target_url = urllib.request.Request(\"https://archive.ics.uci.edu/ml/machine-learning-databases/undocumented/connectionist-bench/sonar/sonar.all-data\")\n",
    "data = urlopen(target_url)\n",
    "\n",
    "\n",
    "#arrange data into list for labels and list of lists for attributes\n",
    "xList = []\n",
    "labels = []\n",
    "for line in data:\n",
    "    #split on comma\n",
    "    row = line.strip().decode().split(\",\")\n",
    "    #assign label 1.0 for \"M\" and 0.0 for \"R\"\n",
    "    if(row[-1] == 'M'):\n",
    "        labels.append(1.0)\n",
    "    else:\n",
    "        labels.append(0.0)\n",
    "        #remove lable from row\n",
    "    row.pop()\n",
    "    #convert row to floats\n",
    "    floatRow = [float(num) for num in row]\n",
    "    xList.append(floatRow)\n",
    "\n",
    "#divide attribute matrix and label vector into training(2/3 of data) and test sets (1/3 of data)\n",
    "indices = range(len(xList))\n",
    "xListTest = [xList[i] for i in indices if i%3 == 0 ]\n",
    "xListTrain = [xList[i] for i in indices if i%3 != 0 ]\n",
    "labelsTest = [labels[i] for i in indices if i%3 == 0]\n",
    "labelsTrain = [labels[i] for i in indices if i%3 != 0]\n",
    "\n",
    "#form list of list input into numpy arrays to match input class for scikit-learn linear model\n",
    "xTrain = numpy.array(xListTrain); yTrain = numpy.array(labelsTrain); xTest = numpy.array(xListTest); yTest = numpy.array(labelsTest)\n",
    "\n",
    "alphaList = [0.1**i for i in [-3, -2, -1, 0,1, 2, 3, 4, 5]]\n",
    "\n",
    "aucList = []\n",
    "for alph in alphaList:\n",
    "    rocksVMinesRidgeModel = linear_model.Ridge(alpha=alph)\n",
    "    rocksVMinesRidgeModel.fit(xTrain, yTrain)\n",
    "    fpr, tpr, thresholds = roc_curve(yTest,rocksVMinesRidgeModel.predict(xTest))\n",
    "    roc_auc = auc(fpr, tpr)\n",
    "    aucList.append(roc_auc)\n",
    "\n",
    "\n",
    "print(\"AUC             alpha\")\n",
    "for i in range(len(aucList)):\n",
    "    print(aucList[i], alphaList[i])\n",
    "\n",
    "#plot auc values versus alpha values\n",
    "x = [-3, -2, -1, 0,1, 2, 3, 4, 5]\n",
    "plt.plot(x, aucList)\n",
    "plt.xlabel('-log(alpha)')\n",
    "plt.ylabel('AUC')\n",
    "plt.show()\n",
    "\n",
    "#visualize the performance of the best classifier\n",
    "indexBest = aucList.index(max(aucList))\n",
    "alph = alphaList[indexBest]\n",
    "rocksVMinesRidgeModel = linear_model.Ridge(alpha=alph)\n",
    "rocksVMinesRidgeModel.fit(xTrain, yTrain)\n",
    "\n",
    "#scatter plot of actual vs predicted\n",
    "plt.scatter(rocksVMinesRidgeModel.predict(xTest), yTest, s=100, alpha=0.25)\n",
    "plt.xlabel(\"Predicted Value\")\n",
    "plt.ylabel(\"Actual Value\")\n",
    "plt.show()\n"
   ]
  },
  {
   "cell_type": "markdown",
   "metadata": {
    "collapsed": true
   },
   "source": [
    "# Converting a Classification problem to an Ordinary Regression Problem by Assigning Numeric Values to Binary Labels"
   ]
  },
  {
   "cell_type": "code",
   "execution_count": 4,
   "metadata": {
    "collapsed": false
   },
   "outputs": [
    {
     "name": "stdout",
     "output_type": "stream",
     "text": [
      "['V10', 'V48', 'V44', 'V11', 'V35', 'V51', 'V20', 'V3', 'V21', 'V15', 'V43', 'V0', 'V22', 'V45', 'V53', 'V27', 'V30', 'V50', 'V58', 'V46', 'V56', 'V28', 'V39']\n"
     ]
    },
    {
     "data": {
      "image/png": "[encoded data removed]",
      "text/plain": [
       "<matplotlib.figure.Figure at 0x16d989a9b70>"
      ]
     },
     "metadata": {},
     "output_type": "display_data"
    }
   ],
   "source": [
    "import numpy\n",
    "from sklearn import datasets, linear_model\n",
    "from sklearn.metrics import roc_curve, auc\n",
    "#import pylab as plt\n",
    "from math import sqrt\n",
    "import matplotlib.pyplot as plot\n",
    "%matplotlib inline\n",
    "import sys\n",
    "\n",
    "from urllib.request import urlopen\n",
    "import urllib\n",
    "#read data from uci data repository\n",
    "target_url = urllib.request.Request(\"https://archive.ics.uci.edu/ml/machine-learning-databases/undocumented/connectionist-bench/sonar/sonar.all-data\")\n",
    "data = urlopen(target_url)\n",
    "\n",
    "#arrange data into list for labels and list of lists for attributes\n",
    "xList = []\n",
    "\n",
    "\n",
    "for line in data:\n",
    "    #split on comma\n",
    "    row = line.strip().decode().split(\",\")\n",
    "    xList.append(row)\n",
    "\n",
    "#separate labels from attributes, convert from attributes from string to numeric and convert \"M\" to 1 and \"R\" to 0\n",
    "\n",
    "xNum = []\n",
    "labels = []\n",
    "\n",
    "for row in xList:\n",
    "    lastCol = row.pop()\n",
    "    if lastCol == \"M\":\n",
    "        labels.append(1.0)\n",
    "    else:\n",
    "        labels.append(0.0)\n",
    "    attrRow = [float(elt) for elt in row]\n",
    "    xNum.append(attrRow)\n",
    "\n",
    "#number of rows and columns in x matrix\n",
    "nrow = len(xNum)\n",
    "ncol = len(xNum[1])\n",
    "\n",
    "#calculate means and variances\n",
    "xMeans = []\n",
    "xSD = []\n",
    "for i in range(ncol):\n",
    "    col = [xNum[j][i] for j in range(nrow)]\n",
    "    mean = sum(col)/nrow\n",
    "    xMeans.append(mean)\n",
    "    colDiff = [(xNum[j][i] - mean) for j in range(nrow)]\n",
    "    sumSq = sum([colDiff[i] * colDiff[i] for i in range(nrow)])\n",
    "    stdDev = sqrt(sumSq/nrow)\n",
    "    xSD.append(stdDev)\n",
    "\n",
    "#use calculate mean and standard deviation to normalize xNum\n",
    "xNormalized = []\n",
    "for i in range(nrow):\n",
    "    rowNormalized = [(xNum[i][j] - xMeans[j])/xSD[j] for j in range(ncol)]\n",
    "    xNormalized.append(rowNormalized)\n",
    "\n",
    "#Normalize labels\n",
    "meanLabel = sum(labels)/nrow\n",
    "sdLabel = sqrt(sum([(labels[i] - meanLabel) * (labels[i] - meanLabel) for i in range(nrow)])/nrow)\n",
    "\n",
    "labelNormalized = [(labels[i] - meanLabel)/sdLabel for i in range(nrow)]\n",
    "\n",
    "#initialize a vector of coefficients beta\n",
    "beta = [0.0] * ncol\n",
    "\n",
    "#initialize matrix of betas at each step\n",
    "betaMat = []\n",
    "betaMat.append(list(beta))\n",
    "\n",
    "\n",
    "#number of steps to take\n",
    "nSteps = 350\n",
    "stepSize = 0.004\n",
    "nzList = []\n",
    "\n",
    "for i in range(nSteps):\n",
    "    #calculate residuals\n",
    "    residuals = [0.0] * nrow\n",
    "    for j in range(nrow):\n",
    "        labelsHat = sum([xNormalized[j][k] * beta[k] for k in range(ncol)])\n",
    "        residuals[j] = labelNormalized[j] - labelsHat\n",
    "\n",
    "    #calculate correlation between attribute columns from normalized wine and residual\n",
    "    corr = [0.0] * ncol\n",
    "\n",
    "    for j in range(ncol):\n",
    "        corr[j] = sum([xNormalized[k][j] * residuals[k] for k in range(nrow)]) / nrow\n",
    "\n",
    "    iStar = 0\n",
    "    corrStar = corr[0]\n",
    "\n",
    "    for j in range(1, (ncol)):\n",
    "        if abs(corrStar) < abs(corr[j]):\n",
    "            iStar = j; corrStar = corr[j]\n",
    "\n",
    "    beta[iStar] += stepSize * corrStar / abs(corrStar)\n",
    "    betaMat.append(list(beta))\n",
    "\n",
    "\n",
    "    nzBeta = [index for index in range(ncol) if beta[index] != 0.0]\n",
    "    for q in nzBeta:\n",
    "        if (q in nzList) == False:\n",
    "            nzList.append(q)\n",
    "\n",
    "#make up names for columns of xNum\n",
    "names = ['V' + str(i) for i in range(ncol)]\n",
    "nameList = [names[nzList[i]] for i in range(len(nzList))]\n",
    "\n",
    "print(nameList)\n",
    "for i in range(ncol):\n",
    "    #plot range of beta values for each attribute\n",
    "    coefCurve = [betaMat[k][i] for k in range(nSteps)]\n",
    "    xaxis = range(nSteps)\n",
    "    plot.plot(xaxis, coefCurve)\n",
    "\n",
    "plot.xlabel(\"Steps Taken\")\n",
    "plot.ylabel((\"Coefficient Values\"))\n",
    "plot.show()\n",
    "\n"
   ]
  },
  {
   "cell_type": "markdown",
   "metadata": {},
   "source": []
  },
  {
   "cell_type": "code",
   "execution_count": null,
   "metadata": {
    "collapsed": true
   },
   "outputs": [],
   "source": [
    "import matplotlib.pyplot as plot"
   ]
  }
 ],
 "metadata": {
  "kernelspec": {
   "display_name": "Python 3",
   "language": "python",
   "name": "python3"
  },
  "language_info": {
   "codemirror_mode": {
    "name": "ipython",
    "version": 3
   },
   "file_extension": ".py",
   "mimetype": "text/x-python",
   "name": "python",
   "nbconvert_exporter": "python",
   "pygments_lexer": "ipython3",
   "version": "3.5.1"
  }
 },
 "nbformat": 4,
 "nbformat_minor": 0
}
